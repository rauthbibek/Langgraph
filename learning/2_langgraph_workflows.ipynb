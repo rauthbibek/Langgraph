{
 "cells": [
  {
   "cell_type": "markdown",
   "id": "2758ccbf",
   "metadata": {},
   "source": [
    "## Sequential Workflow"
   ]
  },
  {
   "cell_type": "markdown",
   "id": "29b9fe4a",
   "metadata": {},
   "source": []
  },
  {
   "cell_type": "code",
   "execution_count": 8,
   "id": "66392278",
   "metadata": {},
   "outputs": [],
   "source": [
    "from langgraph.graph import StateGraph, START, END\n",
    "from typing import TypedDict, Optional"
   ]
  },
  {
   "cell_type": "markdown",
   "id": "ee9e8132",
   "metadata": {},
   "source": [
    "### Non-LLM Based Workflow"
   ]
  },
  {
   "cell_type": "code",
   "execution_count": 17,
   "id": "0ca8e7a0",
   "metadata": {},
   "outputs": [],
   "source": [
    "# define state\n",
    "\n",
    "class BMIState(TypedDict):\n",
    "    height: float  # in meters\n",
    "    weight: float  # in kilograms\n",
    "    bmi: float  # body mass index\n",
    "    category: str # BMI category (e.g., \"Underweight\", \"Normal weight\", \"Overweight\", \"Obesity\")\n",
    "\n",
    "# define graph\n",
    "graph = StateGraph(BMIState)\n",
    "\n"
   ]
  },
  {
   "cell_type": "code",
   "execution_count": 18,
   "id": "2480f238",
   "metadata": {},
   "outputs": [],
   "source": [
    "def calculate_bmi(state: BMIState) -> BMIState:\n",
    "    \"\"\"Calculate BMI from height and weight.\"\"\"\n",
    "    if state['height'] <= 0 or state['weight'] <= 0:\n",
    "        raise ValueError(\"Height and weight must be positive values.\")\n",
    "    \n",
    "    state['bmi'] = round(state['weight'] / (state['height'] ** 2), 2)\n",
    "    return state\n",
    "\n",
    "def categorize_bmi(state: BMIState) -> BMIState:\n",
    "    \"\"\"Categorize BMI into standard categories.\"\"\"\n",
    "    if state['bmi'] < 18.5:\n",
    "        state['category'] = \"Underweight\"\n",
    "    elif 18.5 <= state['bmi'] < 24.9:\n",
    "        state['category'] = \"Normal weight\"\n",
    "    elif 25 <= state['bmi'] < 29.9:\n",
    "        state['category'] = \"Overweight\"\n",
    "    else:\n",
    "        state['category'] = \"Obesity\"\n",
    "    \n",
    "    return state"
   ]
  },
  {
   "cell_type": "code",
   "execution_count": 19,
   "id": "9ebe2ce7",
   "metadata": {},
   "outputs": [],
   "source": [
    "# define nodes\n",
    "graph.add_node(\"calculate_bmi\", calculate_bmi)\n",
    "graph.add_node(\"categorize_bmi\", categorize_bmi)\n",
    "\n",
    "# define workflow\n",
    "graph.add_edge(START, \"calculate_bmi\")\n",
    "graph.add_edge(\"calculate_bmi\", \"categorize_bmi\")\n",
    "graph.add_edge(\"categorize_bmi\", END)\n",
    "\n",
    "# compile the graph\n",
    "workflow = graph.compile()"
   ]
  },
  {
   "cell_type": "code",
   "execution_count": 20,
   "id": "ffcbd784",
   "metadata": {},
   "outputs": [
    {
     "data": {
      "image/png": "[encoded data removed]",
      "text/plain": [
       "<langgraph.graph.state.CompiledStateGraph object at 0x00000179D25A1A50>"
      ]
     },
     "execution_count": 20,
     "metadata": {},
     "output_type": "execute_result"
    }
   ],
   "source": [
    "workflow"
   ]
  },
  {
   "cell_type": "code",
   "execution_count": 21,
   "id": "17dbd96c",
   "metadata": {},
   "outputs": [
    {
     "name": "stdout",
     "output_type": "stream",
     "text": [
      "{'height': 1.75, 'weight': 73.0, 'bmi': 23.84, 'category': 'Normal weight'}\n"
     ]
    }
   ],
   "source": [
    "# execute the workflow\n",
    "# Example input state\n",
    "input_state = {    \"height\": 1.75,  # meters\n",
    "    \"weight\": 73.0,  # kilograms  }\n",
    "}\n",
    "\n",
    "final_state = workflow.invoke(input_state)\n",
    "\n",
    "print(final_state)  # Output should include the calculated BMI\n"
   ]
  },
  {
   "cell_type": "markdown",
   "id": "37b99feb",
   "metadata": {},
   "source": [
    "### LLM Based Workflow\n"
   ]
  },
  {
   "cell_type": "code",
   "execution_count": 42,
   "id": "28f3c8c6",
   "metadata": {},
   "outputs": [],
   "source": [
    "# %pip install langchain-huggingface\n",
    "# %pip install python-dotenv\n",
    "# %pip install transformers"
   ]
  },
  {
   "cell_type": "code",
   "execution_count": 41,
   "id": "2c55074e",
   "metadata": {},
   "outputs": [],
   "source": [
    "# import os\n",
    "# from langchain_huggingface import HuggingFacePipeline\n",
    "# from langchain_core.prompts import ChatPromptTemplate\n",
    "# from langchain_core.output_parsers import StrOutputParser\n",
    "# from dotenv import load_dotenv\n",
    "\n",
    "# # Load environment variables\n",
    "# load_dotenv()\n",
    "# # Set your Hugging Face API token (uncomment and set your token if not in .env)\n",
    "# # os.environ[\"HUGGINGFACEHUB_API_TOKEN\"] = \"YOUR_HUGGINGFACE_API_TOKEN\"\n",
    "# if \"HUGGINGFACEHUB_API_TOKEN\" not in os.environ or not os.environ[\"HUGGINGFACEHUB_API_TOKEN\"]:\n",
    "#     raise EnvironmentError(\n",
    "#         \"HUGGINGFACEHUB_API_TOKEN not set. Please set it in your .env file or directly in the code.\"\n",
    "#     )\n",
    "\n",
    "# # 1. Instantiate the Chat Model (running locally)\n",
    "# # Make sure you have enough RAM and a compatible GPU for this model.\n",
    "# llm = HuggingFacePipeline.from_model_id(\n",
    "#     model_id=\"meta-llama/Meta-Llama-3-8B-Instruct\",\n",
    "#     task=\"text-generation\",\n",
    "#     pipeline_kwargs={\n",
    "#         \"max_new_tokens\": 250,\n",
    "#         \"top_k\": 50,\n",
    "#         \"temperature\": 0.1,\n",
    "#     },\n",
    "# )\n",
    "\n",
    "# # 2. Create a Prompt Template\n",
    "# messages = [\n",
    "#     (\"system\", \"You are a helpful assistant.\"),\n",
    "#     (\"user\", \"{user_input}\"),\n",
    "# ]\n",
    "\n",
    "# prompt = ChatPromptTemplate.from_messages(messages)\n",
    "\n",
    "# # 3. Create a Chain\n",
    "# chain = prompt | llm | StrOutputParser()\n",
    "\n",
    "# # 4. Invoke the Chain\n",
    "# user_input = \"What is the capital of France and what is it famous for?\"\n",
    "# response = chain.invoke({\"user_input\": user_input})\n",
    "\n",
    "# print(response)"
   ]
  },
  {
   "cell_type": "code",
   "execution_count": 47,
   "id": "7887c7cc",
   "metadata": {},
   "outputs": [],
   "source": [
    "# %pip install langchain_openai"
   ]
  },
  {
   "cell_type": "code",
   "execution_count": 50,
   "id": "18d6eb17",
   "metadata": {},
   "outputs": [],
   "source": [
    "from langgraph.graph import StateGraph, START, END\n",
    "from langchain_openai import ChatOpenAI\n",
    "from typing import TypedDict, Optional\n",
    "from dotenv import load_dotenv"
   ]
  },
  {
   "cell_type": "code",
   "execution_count": 49,
   "id": "5b77f3d1",
   "metadata": {},
   "outputs": [],
   "source": [
    "load_dotenv()\n",
    "\n",
    "model = ChatOpenAI()"
   ]
  },
  {
   "cell_type": "code",
   "execution_count": 51,
   "id": "9d010738",
   "metadata": {},
   "outputs": [],
   "source": [
    "def llm_qa(state: 'QnAState') -> 'QnAState':\n",
    "    \"\"\"Use LLM to answer the question.\"\"\"\n",
    "    if not state['question']:\n",
    "        raise ValueError(\"Question cannot be empty.\")\n",
    "\n",
    "    prompt = f\"Answer the following question: {state['question']}\"\n",
    "    \n",
    "    response = model.invoke(prompt)\n",
    "    state['answer'] = response.content\n",
    "    return state"
   ]
  },
  {
   "cell_type": "code",
   "execution_count": 52,
   "id": "991b3528",
   "metadata": {},
   "outputs": [],
   "source": [
    "class QnAState(TypedDict):\n",
    "    question: str\n",
    "    answer: Optional[str] = None"
   ]
  },
  {
   "cell_type": "code",
   "execution_count": 53,
   "id": "4d056d3e",
   "metadata": {},
   "outputs": [
    {
     "data": {
      "image/png": "[encoded data removed]",
      "text/plain": [
       "<langgraph.graph.state.CompiledStateGraph object at 0x00000179D2125C10>"
      ]
     },
     "execution_count": 53,
     "metadata": {},
     "output_type": "execute_result"
    }
   ],
   "source": [
    "graph = StateGraph(QnAState)\n",
    "\n",
    "graph.add_node(\"llm_qa\", llm_qa)\n",
    "graph.add_edge(START, \"llm_qa\")\n",
    "graph.add_edge(\"llm_qa\", END)\n",
    "\n",
    "workflow = graph.compile()\n",
    "\n",
    "workflow\n"
   ]
  },
  {
   "cell_type": "code",
   "execution_count": null,
   "id": "2ce8b994",
   "metadata": {},
   "outputs": [
    {
     "name": "stdout",
     "output_type": "stream",
     "text": [
      "{'question': 'What is the capital of France?', 'answer': 'The capital of France is Paris.'}\n"
     ]
    }
   ],
   "source": [
    "init_state = {\"question\": \"What is the capital of France?\"}\n",
    "\n",
    "final_state = workflow.invoke(init_state)\n",
    "\n",
    "print(final_state)  \n"
   ]
  },
  {
   "cell_type": "markdown",
   "id": "e325ad1d",
   "metadata": {},
   "source": [
    "## Parallel Workflow"
   ]
  },
  {
   "cell_type": "markdown",
   "id": "8bb1fb78",
   "metadata": {},
   "source": [
    "### Example 1: Creating a Simple Parallel Workflow "
   ]
  },
  {
   "cell_type": "code",
   "execution_count": 55,
   "id": "d5e0cff4",
   "metadata": {},
   "outputs": [],
   "source": [
    "from langgraph.graph import StateGraph, START, END\n",
    "from langchain_openai import ChatOpenAI\n",
    "from typing import TypedDict, Optional\n",
    "from dotenv import load_dotenv"
   ]
  },
  {
   "cell_type": "code",
   "execution_count": 68,
   "id": "e285312e",
   "metadata": {},
   "outputs": [],
   "source": [
    "class BatsmanState(TypedDict):\n",
    "    runs: int\n",
    "    balls: int\n",
    "    fours: int\n",
    "    sixes: int\n",
    "\n",
    "    sr: float  # strike rate\n",
    "    bpb: float  # balls per boundary\n",
    "    boundary_percentage: float  # percentage of runs from boundaries\n",
    "    summary: str  # summary of performance\n"
   ]
  },
  {
   "cell_type": "code",
   "execution_count": 87,
   "id": "3316e3ab",
   "metadata": {},
   "outputs": [],
   "source": [
    "def calculate_sr(state: BatsmanState):\n",
    "    \"\"\"Calculate strike rate.\"\"\"\n",
    "    if state['balls'] == 0:\n",
    "        raise ValueError(\"Balls cannot be zero.\")\n",
    "    \n",
    "    sr = round((state['runs'] / state['balls']) * 100, 2)\n",
    "\n",
    "    return {'sr': sr}\n",
    "\n",
    "def calculate_bpb(state: BatsmanState):\n",
    "    \"\"\"Calculate balls per boundary.\"\"\"\n",
    "    if state['fours'] + state['sixes'] == 0:\n",
    "        raise ValueError(\"Fours and sixes cannot be zero.\")\n",
    "    \n",
    "    bpb = round(state['balls'] / (state['fours'] + state['sixes']), 2)\n",
    "\n",
    "    return {'bpb':bpb}\n",
    "\n",
    "def calculate_boundary_percentage(state: BatsmanState):\n",
    "    \"\"\"Calculate percentage of runs from boundaries.\"\"\"\n",
    "    if state['runs'] == 0:\n",
    "        raise ValueError(\"Runs cannot be zero.\")\n",
    "    \n",
    "    boundary_runs = (state['fours'] * 4) + (state['sixes'] * 6)\n",
    "    boundary_percentage = round((boundary_runs / state['runs']) * 100, 2)\n",
    "\n",
    "    return {'boundary_percentage': boundary_percentage}\n",
    "\n",
    "def summarize_batsman(state: BatsmanState) :\n",
    "    \"\"\"Summarize batsman's performance.\"\"\"\n",
    "    summary = f\"\"\"\n",
    "        Batsman scored {state['runs']} runs in {state['balls']} balls with \n",
    "        {state['fours']} fours and {state['sixes']} sixes. \n",
    "        f\"Strike Rate: {state['sr']}, Balls per Boundary: {state['bpb']}, \n",
    "        f\"Boundary Percentage: {state['boundary_percentage']}\n",
    "    \"\"\"\n",
    "    \n",
    "    return {'summary': summary}\n",
    "    \n",
    "    # state['summary'] = summary\n",
    "    # return state"
   ]
  },
  {
   "cell_type": "code",
   "execution_count": 88,
   "id": "a0f66bcf",
   "metadata": {},
   "outputs": [
    {
     "data": {
      "image/png": "[encoded data removed]",
      "text/plain": [
       "<langgraph.graph.state.CompiledStateGraph object at 0x00000179ED147590>"
      ]
     },
     "execution_count": 88,
     "metadata": {},
     "output_type": "execute_result"
    }
   ],
   "source": [
    "graph = StateGraph(BatsmanState)\n",
    "\n",
    "graph.add_node(\"calculate_sr\", calculate_sr)\n",
    "graph.add_node(\"calculate_bpb\", calculate_bpb)\n",
    "graph.add_node(\"calculate_boundary_percentage\", calculate_boundary_percentage)\n",
    "graph.add_node(\"summarize_batsman\", summarize_batsman)\n",
    "\n",
    "graph.add_edge(START, \"calculate_sr\")\n",
    "graph.add_edge(START, \"calculate_bpb\")\n",
    "graph.add_edge(START, \"calculate_boundary_percentage\")\n",
    "graph.add_edge(\"calculate_sr\", \"summarize_batsman\")\n",
    "graph.add_edge(\"calculate_bpb\", \"summarize_batsman\")\n",
    "graph.add_edge(\"calculate_boundary_percentage\", \"summarize_batsman\")\n",
    "graph.add_edge(\"summarize_batsman\", END)\n",
    "\n",
    "workflow = graph.compile()\n",
    "\n",
    "workflow\n"
   ]
  },
  {
   "cell_type": "code",
   "execution_count": 89,
   "id": "28b9bcce",
   "metadata": {},
   "outputs": [
    {
     "name": "stdout",
     "output_type": "stream",
     "text": [
      "{'runs': 100, 'balls': 50, 'fours': 10, 'sixes': 5, 'sr': 200.0, 'bpb': 3.33, 'boundary_percentage': 70.0, 'summary': '\\n        Batsman scored 100 runs in 50 balls with \\n        10 fours and 5 sixes. \\n        f\"Strike Rate: 200.0, Balls per Boundary: 3.33, \\n        f\"Boundary Percentage: 70.0\\n    '}\n"
     ]
    },
    {
     "data": {
      "text/plain": [
       "'\\n        Batsman scored 100 runs in 50 balls with \\n        10 fours and 5 sixes. \\n        f\"Strike Rate: 200.0, Balls per Boundary: 3.33, \\n        f\"Boundary Percentage: 70.0\\n    '"
      ]
     },
     "execution_count": 89,
     "metadata": {},
     "output_type": "execute_result"
    }
   ],
   "source": [
    "input_state = {\n",
    "    \"runs\": 100,\n",
    "    \"balls\": 50,\n",
    "    \"fours\": 10,\n",
    "    \"sixes\": 5,\n",
    "}\n",
    "\n",
    "final_state = workflow.invoke(input_state)\n",
    "print(final_state)  # Output should include the calculated metrics and summary\n",
    "\n",
    "final_state['summary']  # This will print the summary of the batsman's performance\n"
   ]
  },
  {
   "cell_type": "markdown",
   "id": "96c3f928",
   "metadata": {},
   "source": [
    "### Example 2: UPSC Essay Evaluation\n",
    "\n",
    "The UPSC (Union Public Service Commission) conducts a civil services examination that includes an essay paper. The evaluation of the essay is based on the following criteria:\n",
    "- Clarity of thought (10 points)\n",
    "- Depth of Analysis (10 points)\n",
    "- Language (10 points)\n",
    "\n",
    "Idea is to evaluate the essay based on these criteria."
   ]
  },
  {
   "cell_type": "code",
   "execution_count": 91,
   "id": "ac021a2a",
   "metadata": {},
   "outputs": [],
   "source": [
    "from langgraph.graph import StateGraph, START, END\n",
    "from langchain_openai import ChatOpenAI\n",
    "from typing import TypedDict, Optional, List, Annotated\n",
    "from pydantic import BaseModel, Field\n",
    "from dotenv import load_dotenv\n",
    "import operator"
   ]
  },
  {
   "cell_type": "code",
   "execution_count": 93,
   "id": "d093ac96",
   "metadata": {},
   "outputs": [],
   "source": [
    "load_dotenv()\n",
    "model = ChatOpenAI(model=\"gpt-4o-mini\")"
   ]
  },
  {
   "cell_type": "code",
   "execution_count": 94,
   "id": "72d2fc25",
   "metadata": {},
   "outputs": [],
   "source": [
    "class FeedbackSchema(BaseModel):\n",
    "    feedback: str = Field(..., description=\"Detailed feedback on the essay\")\n",
    "    score: int = Field(description=\"Score out of 10\",  ge=0, le=10)\n",
    "\n",
    "structured_model =  model.with_structured_output(FeedbackSchema)"
   ]
  },
  {
   "cell_type": "code",
   "execution_count": 107,
   "id": "d4a338f0",
   "metadata": {},
   "outputs": [],
   "source": [
    "class EssayEvaluationState(TypedDict):\n",
    "\n",
    "    essay: str\n",
    "    cot_feedback: Optional[str] = None\n",
    "    doa_feedback: Optional[str] = None\n",
    "    language_feedback: Optional[str] = None\n",
    "    overall_feedback: Optional[str] = None\n",
    "    scores: Annotated[List[float], operator.add]  # List to hold scores for each criterion. We are using Reducer to add scores in parallel process.\n",
    "    final_score: Optional[float] = None  # Final score after averaging\n",
    "\n",
    "\n",
    "def evaluate_clarity_of_thought(state: EssayEvaluationState):\n",
    "    \"\"\"Evaluate clarity of thought.\"\"\"\n",
    "    prompt = f\"Evaluate the clarity of thought in the following essay:\\n{state['essay']}\"\n",
    "    response = structured_model.invoke(prompt)\n",
    "    cot_feedback = response.feedback\n",
    "    score = response.score\n",
    "    return {\n",
    "        'cot_feedback': cot_feedback, 'scores': [score]\n",
    "    }\n",
    "\n",
    "def evaluate_depth_of_analysis(state: EssayEvaluationState):\n",
    "    \"\"\"Evaluate depth of analysis.\"\"\"\n",
    "    prompt = f\"Evaluate the depth of analysis in the following essay:\\n{state['essay']}\"\n",
    "    response = structured_model.invoke(prompt)\n",
    "    doa_feedback = response.feedback\n",
    "    score = response.score\n",
    "    return {\n",
    "        'doa_feedback': doa_feedback, 'scores': [score]\n",
    "    }\n",
    "\n",
    "def evaluate_language(state: EssayEvaluationState):\n",
    "    \"\"\"Evaluate language used in the essay.\"\"\"\n",
    "    prompt = f\"Evaluate the language used in the following essay:\\n{state['essay']}\"\n",
    "    response = structured_model.invoke(prompt)\n",
    "    language_feedback = response.feedback\n",
    "    score = response.score\n",
    "    return {\n",
    "        'language_feedback': language_feedback, 'scores': [score]\n",
    "    }\n",
    "\n",
    "def final_evaluation(state: EssayEvaluationState):\n",
    "    \"\"\"Combine feedback and calculate final score.\"\"\"\n",
    "    prommpt = f\"Based on the feedback provided, summarize the overall evaluation of the essay. Clarity of Thought Feedback: {state['cot_feedback']}, Depth of Analysis Feedback: {state['doa_feedback']}, Language Feedback: {state['language_feedback']}\"\n",
    "    response = model.invoke(prommpt)\n",
    "    overall_feedback = response.content\n",
    "    # state['overall_feedback'] = overall_feedback\n",
    "    \n",
    "    # Calculate final score as the average of individual scores\n",
    "    if state['scores']:\n",
    "        final_score = round(sum(state['scores']) / len(state['scores']), 2)\n",
    "    else:\n",
    "        final_score = 0.0\n",
    "    \n",
    "    return {'overall_feedback': overall_feedback, 'final_score': final_score}"
   ]
  },
  {
   "cell_type": "code",
   "execution_count": 108,
   "id": "4548ed65",
   "metadata": {},
   "outputs": [
    {
     "data": {
      "image/png": "[encoded data removed]",
      "text/plain": [
       "<langgraph.graph.state.CompiledStateGraph object at 0x00000179ED1CF410>"
      ]
     },
     "execution_count": 108,
     "metadata": {},
     "output_type": "execute_result"
    }
   ],
   "source": [
    "graph = StateGraph(EssayEvaluationState)\n",
    "\n",
    "graph.add_node(\"evaluate_clarity_of_thought\", evaluate_clarity_of_thought)\n",
    "graph.add_node(\"evaluate_depth_of_analysis\", evaluate_depth_of_analysis)\n",
    "graph.add_node(\"evaluate_language\", evaluate_language)\n",
    "graph.add_node(\"final_evaluation\", final_evaluation)\n",
    "\n",
    "graph.add_edge(START, \"evaluate_clarity_of_thought\")\n",
    "graph.add_edge(START, \"evaluate_depth_of_analysis\")\n",
    "graph.add_edge(START, \"evaluate_language\")\n",
    "graph.add_edge(\"evaluate_clarity_of_thought\", \"final_evaluation\")\n",
    "graph.add_edge(\"evaluate_depth_of_analysis\", \"final_evaluation\")\n",
    "graph.add_edge(\"evaluate_language\", \"final_evaluation\")\n",
    "graph.add_edge(\"final_evaluation\", END)\n",
    "\n",
    "workflow = graph.compile()\n",
    "workflow"
   ]
  },
  {
   "cell_type": "code",
   "execution_count": 97,
   "id": "8d2b9866",
   "metadata": {},
   "outputs": [],
   "source": [
    "essay = \"\"\"India and AI Time\n",
    "\n",
    "Now world change very fast because new tech call Artificial Intel… something (AI). India also want become big in this AI thing. If work hard, India can go top. But if no careful, India go back.\n",
    "\n",
    "India have many good. We have smart student, many engine-ear, and good IT peoples. Big company like TCS, Infosys, Wipro already use AI. Government also do program “AI for All”. It want AI in farm, doctor place, school and transport.\n",
    "\n",
    "In farm, AI help farmer know when to put seed, when rain come, how stop bug. In health, AI help doctor see sick early. In school, AI help student learn good. Government office use AI to find bad people and work fast.\n",
    "\n",
    "But problem come also. First is many villager no have phone or internet. So AI not help them. Second, many people lose job because AI and machine do work. Poor people get more bad.\n",
    "\n",
    "One more big problem is privacy. AI need big big data. Who take care? India still make data rule. If no strong rule, AI do bad.\n",
    "\n",
    "India must all people together – govern, school, company and normal people. We teach AI and make sure AI not bad. Also talk to other country and learn from them.\n",
    "\n",
    "If India use AI good way, we become strong, help poor and make better life. But if only rich use AI, and poor no get, then big bad thing happen.\n",
    "\n",
    "So, in short, AI time in India have many hope and many danger. We must go right road. AI must help all people, not only some. Then India grow big and world say \"good job India\".\"\"\""
   ]
  },
  {
   "cell_type": "code",
   "execution_count": 109,
   "id": "cea5bdb5",
   "metadata": {},
   "outputs": [
    {
     "name": "stdout",
     "output_type": "stream",
     "text": [
      "{'essay': 'India and AI Time\\n\\nNow world change very fast because new tech call Artificial Intel… something (AI). India also want become big in this AI thing. If work hard, India can go top. But if no careful, India go back.\\n\\nIndia have many good. We have smart student, many engine-ear, and good IT peoples. Big company like TCS, Infosys, Wipro already use AI. Government also do program “AI for All”. It want AI in farm, doctor place, school and transport.\\n\\nIn farm, AI help farmer know when to put seed, when rain come, how stop bug. In health, AI help doctor see sick early. In school, AI help student learn good. Government office use AI to find bad people and work fast.\\n\\nBut problem come also. First is many villager no have phone or internet. So AI not help them. Second, many people lose job because AI and machine do work. Poor people get more bad.\\n\\nOne more big problem is privacy. AI need big big data. Who take care? India still make data rule. If no strong rule, AI do bad.\\n\\nIndia must all people together – govern, school, company and normal people. We teach AI and make sure AI not bad. Also talk to other country and learn from them.\\n\\nIf India use AI good way, we become strong, help poor and make better life. But if only rich use AI, and poor no get, then big bad thing happen.\\n\\nSo, in short, AI time in India have many hope and many danger. We must go right road. AI must help all people, not only some. Then India grow big and world say \"good job India\".', 'cot_feedback': \"The essay attempts to address the implications of AI in India, but the clarity of thought is significantly hampered by grammatical errors and awkward phrasing. The use of informal language, such as 'go back' and 'big bad thing happen,' detracts from the seriousness of the topic. While the writer has outlined both the potential benefits and challenges of AI, the arguments are underdeveloped and lack a logical flow. For example, ideas about how AI can benefit agriculture, healthcare, and education are presented but not elaborated upon or connected thoughtfully. The conclusion restates previous points without adding depth or insight. Furthermore, some arguments, like the loss of jobs due to AI, need further exploration and evidence to bolster the claims. Overall, the essay lacks coherence and depth, making it difficult for the reader to fully grasp the writer's perspective and ideas on India's involvement with AI.\", 'doa_feedback': 'The essay presents a basic overview of the potential benefits and challenges of AI in India. It touches upon various sectors such as agriculture, healthcare, education, and public services, providing relevant examples of how AI could be integrated into these areas. However, the analysis lacks depth in several key areas: \\n\\n1. **Clarity and Structure**: The language is not very clear, with several grammatical errors (e.g., \"new tech call Artificial Intel...something\") that detract from the essay\\'s professionalism. A clearer structure with distinct sections on opportunities, challenges, and recommendations would improve readability.\\n   \\n2. **Depth of Analysis**: While the essay mentions various applications of AI, it does not delve deeply into any one of them. For example, the discussion about privacy issues is brief and doesn’t explain the implications of poor data governance thoroughly enough. A deeper analysis of the impacts of AI on jobs and what sectors are most at risk would provide a more nuanced understanding.\\n   \\n3. **Evidence and Support**: The essay lacks supporting evidence or references to studies that show potential outcomes of implementing AI in India. Citing examples of countries that have successfully integrated AI could strengthen the argument.\\n   \\n4. **Critical Perspective**: While the essay acknowledges the potential downsides of AI, it doesn\\'t explore how these challenges might be addressed or mitigated in detail, which is critical for a comprehensive analysis.\\n   \\n5. **Conclusion**: The conclusion repeats earlier points without synthesizing the information presented. A strong conclusion should summarize the key arguments and suggest a clear path forward for India in the realm of AI.\\n\\nOverall, while the essay touches on important themes, it needs a more coherent structure, clearer language, and a deeper analytical approach to be fully effective.', 'language_feedback': 'The essay explores the potential impact of artificial intelligence (AI) on India effectively, touching on both the opportunities and challenges that such technology presents. However, the language used in this piece needs significant improvement in terms of clarity, coherence, and grammatical structure. Here are some specific points of feedback:\\n\\n1. **Grammar and Syntax**: The essay contains numerous grammatical errors and awkward phrases that hinder its readability. For example, sentences like \"Now world change very fast because new tech call Artificial Intel… something (AI)\" are confusing and incorrectly structured. It would be more coherent to say, \"The world is changing rapidly due to new technologies known as Artificial Intelligence (AI).\"\\n\\n2. **Vocabulary**: The use of informal language, such as \"no careful\" and \"go back,\" detracts from the seriousness of the essay. Consider using more formal vocabulary and precise terms to articulate ideas clearly. \\n\\n3. **Organization**: While the essay has identifiable sections, the transitions between them are abrupt, making it feel disjointed. A clearer structure with better logical connections between ideas would enhance the overall flow. For instance, the discussion of AI applications in agriculture, healthcare, and education can be more systematically organized.\\n\\n4. **Development of Ideas**: The essay introduces multiple ideas but does not delve deep enough into some of them. For example, while it mentions the importance of data privacy, the argument could be strengthened with more detail about the implications of data misuse.\\n\\n5. **Conclusion**: The conclusion attempts to summarize the main themes but does so in a way that lacks a powerful closing statement or call for action. A stronger ending would reinforce the essay\\'s main point and leave the reader with a lasting impression.\\n\\nOverall, while the essay presents relevant points on AI in India, enhancing the language and structure would significantly improve its clarity and effectiveness. \\n\\n**Score**: 4/10. The essay shows promise but needs considerable refinement in language and organization.', 'overall_feedback': \"The overall evaluation of the essay indicates that, while it addresses important themes related to the implications of AI in India, it suffers from several notable shortcomings. \\n\\n**Clarity of Thought**: The essay's clarity is hindered by grammatical errors and informal language, which detracts from the seriousness of the topic. Though it identifies potential benefits and challenges of AI, the arguments are underdeveloped and lack logical continuity. Ideas presented, such as those regarding the effects of AI on agriculture, healthcare, and education, are not elaborated upon sufficiently, leading to a lack of depth in analysis. Furthermore, the conclusion fails to synthesize key points, merely restating earlier arguments without providing new insights.\\n\\n**Depth of Analysis**: While the essay provides a basic overview of how AI could impact various sectors, it lacks detailed exploration of key issues. Specific areas for improvement include clearer language and structure, more comprehensive analysis of implications like privacy concerns, the need for supporting evidence, and a more critical perspective on the challenges of AI. The conclusion also lacks depth, failing to offer a strong summarization or a clear path forward for India in relation to AI.\\n\\n**Language and Structure**: The language used throughout the essay needs significant improvement. There are numerous grammatical mistakes, awkward phrases, and informal terms that obscure meaning and professionalism. The organizational structure is also problematic; while sections are identifiable, transitions are abrupt, making the essay feel disjointed. A more systematic organization of ideas would enhance clarity and flow.\\n\\nIn summary, the essay presents relevant points regarding AI in India but requires considerable refinement in terms of language, structure, and analytical depth. The current score of 4/10 reflects the need for significant improvements to enhance clarity and effectiveness.\", 'scores': [4, 4, 4], 'final_score': 4.0}\n"
     ]
    }
   ],
   "source": [
    "init_state = {\n",
    "    \"essay\": essay,\n",
    "}\n",
    "\n",
    "final_state = workflow.invoke(init_state)\n",
    "print(final_state)  # Output should include the feedback and scores"
   ]
  },
  {
   "cell_type": "code",
   "execution_count": 110,
   "id": "b108333a",
   "metadata": {},
   "outputs": [
    {
     "name": "stdout",
     "output_type": "stream",
     "text": [
      "The overall evaluation of the essay indicates that, while it addresses important themes related to the implications of AI in India, it suffers from several notable shortcomings. \n",
      "\n",
      "**Clarity of Thought**: The essay's clarity is hindered by grammatical errors and informal language, which detracts from the seriousness of the topic. Though it identifies potential benefits and challenges of AI, the arguments are underdeveloped and lack logical continuity. Ideas presented, such as those regarding the effects of AI on agriculture, healthcare, and education, are not elaborated upon sufficiently, leading to a lack of depth in analysis. Furthermore, the conclusion fails to synthesize key points, merely restating earlier arguments without providing new insights.\n",
      "\n",
      "**Depth of Analysis**: While the essay provides a basic overview of how AI could impact various sectors, it lacks detailed exploration of key issues. Specific areas for improvement include clearer language and structure, more comprehensive analysis of implications like privacy concerns, the need for supporting evidence, and a more critical perspective on the challenges of AI. The conclusion also lacks depth, failing to offer a strong summarization or a clear path forward for India in relation to AI.\n",
      "\n",
      "**Language and Structure**: The language used throughout the essay needs significant improvement. There are numerous grammatical mistakes, awkward phrases, and informal terms that obscure meaning and professionalism. The organizational structure is also problematic; while sections are identifiable, transitions are abrupt, making the essay feel disjointed. A more systematic organization of ideas would enhance clarity and flow.\n",
      "\n",
      "In summary, the essay presents relevant points regarding AI in India but requires considerable refinement in terms of language, structure, and analytical depth. The current score of 4/10 reflects the need for significant improvements to enhance clarity and effectiveness.\n",
      "[4, 4, 4]\n",
      "4.0\n"
     ]
    }
   ],
   "source": [
    "print(final_state['overall_feedback'])  # This will print the overall feedback on the essay\n",
    "\n",
    "print(final_state['scores'])  # This will print the final score based on the evaluations\n",
    "\n",
    "print(final_state['final_score'])  # This will print the final score based on the evaluations"
   ]
  }
 ],
 "metadata": {
  "kernelspec": {
   "display_name": "venv",
   "language": "python",
   "name": "python3"
  },
  "language_info": {
   "codemirror_mode": {
    "name": "ipython",
    "version": 3
   },
   "file_extension": ".py",
   "mimetype": "text/x-python",
   "name": "python",
   "nbconvert_exporter": "python",
   "pygments_lexer": "ipython3",
   "version": "3.11.9"
  }
 },
 "nbformat": 4,
 "nbformat_minor": 5
}
